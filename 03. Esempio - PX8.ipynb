{
 "cells": [
  {
   "cell_type": "code",
   "execution_count": 32,
   "metadata": {},
   "outputs": [
    {
     "name": "stdout",
     "output_type": "stream",
     "text": [
      "The autoreload extension is already loaded. To reload it, use:\n",
      "  %reload_ext autoreload\n"
     ]
    }
   ],
   "source": [
    "%load_ext autoreload\n",
    "%autoreload 2"
   ]
  },
  {
   "cell_type": "markdown",
   "metadata": {
    "slideshow": {
     "slide_type": "subslide"
    }
   },
   "source": [
    "## Esempio: L'Auguste Piccard PX-8\n",
    "\n",
    "**L'attrattiva principale dell'Expo 1964 fu un sottomarino**\n",
    "\n",
    "<center>\n",
    "<img src=\"assets/piccard.jpg\" width=60%/>\n",
    "</center>\n",
    "\n",
    "* Faceva immersioni con passeggeri nel Lago di Ginevra"
   ]
  },
  {
   "cell_type": "markdown",
   "metadata": {
    "slideshow": {
     "slide_type": "subslide"
    }
   },
   "source": [
    "## Esempio: L'Auguste Piccard PX-8\n",
    "\n",
    "**Per muoversi in verticale un sottomarino carica/scarica acqua**\n",
    "\n",
    "In questo modo esso varia la sua densità\n",
    "\n",
    "* Se la densità è maggiore di $\\rho$, il sottomarino \"cade\" nel fluido\n",
    "* Se è minore, il sottomarino \"cade\" verso l'alto\n",
    "* Se è uguale, il sottomarino si muove per inerzia\n",
    "\n",
    "Per precisione, il sottomarino è soggetto a tre forze principali:\n",
    "\n",
    "* La forza di gravità, che lo accelera verso il basso\n",
    "* La forza di galleggiamento, che lo accelera verso l'alto\n",
    "* L'attrito aerodinamico dell'acqua (trascinamento)"
   ]
  },
  {
   "cell_type": "markdown",
   "metadata": {
    "slideshow": {
     "slide_type": "subslide"
    }
   },
   "source": [
    "## Esempio: L'Auguste Piccard PX-8\n",
    "\n",
    "**La _forza di gravità_ è data da (asse cartesiano orientato verso l'alto):**\n",
    "\n",
    "$$\n",
    "F_g = -g (m + \\rho L)\n",
    "$$\n",
    "\n",
    "* $L$ il volume dell'acqua a bordo\n",
    "* $m$ è la massa del sottomarino\n",
    "* $g$ è l'accelarazione di gravità\n",
    "* $\\rho$ è la densità dell'acqua\n",
    "\n",
    "**La _forza di galleggiameto_ è data da (principio di Archimede):**\n",
    "\n",
    "$$\n",
    "F_b = g \\rho V\n",
    "$$\n",
    "\n",
    "* $V$ è il volume del sottomarino"
   ]
  },
  {
   "cell_type": "markdown",
   "metadata": {
    "slideshow": {
     "slide_type": "subslide"
    }
   },
   "source": [
    "## Esempio: L'Auguste Piccard PX-8\n",
    "\n",
    "**L'attrito aerodinamico dell'acqua (_trascinamento_) è dato da:**\n",
    "\n",
    "$$\n",
    "F_t = -\\frac{1}{2} \\rho A C_D\\, v |v|\n",
    "$$\n",
    "\n",
    "* $A$ è l'area della sezione\n",
    "* $C_D$ è un coefficiente che dipende dalla forma\n",
    "* $v$ è la velocità\n",
    "  * Il prodotto $v |v|$ ha lo stesso segno di $v$...\n",
    "  * ...ed il valore assoluto di $v^2$\n"
   ]
  },
  {
   "cell_type": "markdown",
   "metadata": {
    "slideshow": {
     "slide_type": "subslide"
    }
   },
   "source": [
    "## Esempio: L'Auguste Piccard PX-8\n",
    "\n",
    "**Supponiamo che l'acqua a bordo vari nel modo seguente:**\n",
    "\n",
    "<center>\n",
    "<img src=\"assets/piccard_load.png\" width=40%/>\n",
    "</center>\n",
    "\n",
    "Il valore $L \\simeq 52.2$ bilancia le forze di gravità e galleggiamento\n",
    "\n",
    "* Si tratta di una funzione lineare a tratti\n",
    "* ...E quindi valutabile con `numpy.interp`"
   ]
  },
  {
   "cell_type": "markdown",
   "metadata": {
    "slideshow": {
     "slide_type": "subslide"
    }
   },
   "source": [
    "## Esempio: L'Auguste Piccard PX-8\n",
    "\n",
    "**La quota del PX-8 nel tempo è regolata dall'ODE:**\n",
    "\n",
    "$$\n",
    "\\ddot{x} = \\frac{1}{m + \\rho L} (F_g + F_b + F_t)\n",
    "$$\n",
    "\n",
    "Che può essere riscritta come:\n",
    "\n",
    "$$\n",
    "\\left(\\begin{array}{c}\n",
    "\\dot{x} \\\\\n",
    "\\dot{v} \\\\\n",
    "\\end{array}\\right)\n",
    "=\n",
    "\\left(\\begin{array}{c}\n",
    "v \\\\\n",
    "\\frac{1}{m + \\rho L} (F_g + F_b + F_t) \\\\\n",
    "\\end{array}\\right)\n",
    "$$\n",
    "\n",
    "\n",
    "* La quota iniziale $x_0$ è $-5\\, m$\n",
    "* In particolare, vogliamo sapere la quota dopo 10, 20 e 30 minuti\n",
    "* ...Ma ci arriveremo per gradi"
   ]
  },
  {
   "cell_type": "markdown",
   "metadata": {
    "slideshow": {
     "slide_type": "subslide"
    }
   },
   "source": [
    "## Esempio: L'Auguste Piccard PX-8\n",
    "\n",
    "**Prima di tutto recuperiamo i dati del problema**\n",
    "\n",
    "...Possiamo farlo eseguendo questa cella:"
   ]
  },
  {
   "cell_type": "code",
   "execution_count": 33,
   "metadata": {},
   "outputs": [],
   "source": [
    "import numpy as np\n",
    "\n",
    "g = 9.81\n",
    "D = 3.5\n",
    "H = 28.5\n",
    "V = np.pi * (D/2)**2 * H # Volume\n",
    "A = D * H * 1.8\n",
    "Cd = 0.47\n",
    "m = 222e3 # Massa\n",
    "rho = 1000 # Densita' dell'acqua\n",
    "L0 = V - m / rho # Volume d'acqua iniziale (m^2)\n",
    "\n",
    "Tp = [     0,     10, 20, 180,      190, 200, 1800];\n",
    "Lp = [L0+0.3, L0+0.3, L0,  L0, L0-0.085,  L0,   L0];"
   ]
  },
  {
   "cell_type": "markdown",
   "metadata": {
    "slideshow": {
     "slide_type": "subslide"
    }
   },
   "source": [
    "## Esempio: L'Auguste Piccard PX-8\n",
    "\n",
    "**Nel modulo `sol.piccard` si definisca una classe:**\n",
    "\n",
    "```python\n",
    "class PX8Dstate:\n",
    "    def __init__(self, m, g, rho, V, A, Cd, Tp, Lp):\n",
    "        ...\n",
    "\n",
    "    def __call__(self, X, t):\n",
    "        ...\n",
    "```\n",
    "\n",
    "...Che rappresenti la funzione che definisce l'ODE\n",
    "\n",
    "* Il metodo `__call__` deve calcolare le derivate\n",
    "* ...Recuparando il valore di $L$ per il tempo corrente interpolando `Tp` e `Lp`\n",
    "* ...E restiuirle sotto forma di `numpy.array`\n",
    "\n",
    "Nella cella seguente:\n",
    "\n",
    "* Si utilizzi la classe per calcolare il gradiente\n",
    "* ...Per lo stato iniziale $(x_0, v_0) = (-5, 0)$ ed il tempo iniziale $t_0 = 0$"
   ]
  },
  {
   "cell_type": "code",
   "execution_count": 39,
   "metadata": {},
   "outputs": [
    {
     "data": {
      "text/plain": [
       "array([ 0.        , -0.01072123])"
      ]
     },
     "execution_count": 39,
     "metadata": {},
     "output_type": "execute_result"
    }
   ],
   "source": [
    "from sol import piccard\n",
    "\n",
    "X0 = np.array([-5, 0])\n",
    "t0 = 0\n",
    "\n",
    "dstate = piccard.PX8Dstate(m, g, rho, V, A, Cd, Tp, Lp)\n",
    "dstate(X=X0, t=t0)"
   ]
  },
  {
   "cell_type": "markdown",
   "metadata": {
    "slideshow": {
     "slide_type": "subslide"
    }
   },
   "source": [
    "## Esempio: L'Auguste Piccard PX-8\n",
    "\n",
    "**Nel modulo `sol.piccard` si definisca una funzione:**\n",
    "\n",
    "```python\n",
    "def simulate(f, X0, t)\n",
    "```\n",
    "\n",
    "...Che si simuli il comportamento del sommergibile\n",
    "\n",
    "* La funzione deve restituire una tupla contenente (nell'ordine):\n",
    "  - La matrice con gli stati visitati\n",
    "  - Il vettore con i valori del tempo\n",
    "* La funzione deve anche disegnare un grafico utilizzando `example.util.plot_state_evolution`\n",
    "\n",
    "**Si utilizzi la funzione per determinare il comportamento del sommergibile**\n",
    "\n",
    "* Per un periodo di 30'\n",
    "* ...A partire dallo stato iniziale $(x, v) = (-5, 0)$"
   ]
  },
  {
   "cell_type": "code",
   "execution_count": 40,
   "metadata": {},
   "outputs": [
    {
     "data": {
      "image/png": "[encoded data removed]",
      "text/plain": [
       "<Figure size 1440x360 with 2 Axes>"
      ]
     },
     "metadata": {
      "needs_background": "light"
     },
     "output_type": "display_data"
    }
   ],
   "source": [
    "from scipy.integrate import odeint\n",
    "from example import util\n",
    "\n",
    "X0 = np.array([-5, 0])\n",
    "t = np.linspace(0, 1800, 1800)\n",
    "\n",
    "X, t = piccard.simulate(dstate, X0, t)"
   ]
  },
  {
   "cell_type": "markdown",
   "metadata": {
    "slideshow": {
     "slide_type": "subslide"
    }
   },
   "source": [
    "## Esempio: L'Auguste Piccard PX-8\n",
    "\n",
    "**Nel modulo `sol.piccard` si definisca una funzione:**\n",
    "\n",
    "```python\n",
    "def get_depth(X, t)\n",
    "```\n",
    "\n",
    "* Che restituisca una tupla contentente (nell'ordine):\n",
    "  - La quota del sommergibile a 10 minuti\n",
    "  - La quota del sommergibile a 20 minuti\n",
    "  - La quota del sommergibile a 30 minuti\n",
    "\n",
    "Si stampino a video i tre valori"
   ]
  },
  {
   "cell_type": "code",
   "execution_count": 41,
   "metadata": {},
   "outputs": [
    {
     "name": "stdout",
     "output_type": "stream",
     "text": [
      "Quota a 10 minuti: -5.521979798233806\n",
      "Quota a 20 minuti: -6.782342264263152\n",
      "Quota a 30 minuti: -6.782342264263152\n"
     ]
    }
   ],
   "source": [
    "q10, q20, q30 = piccard.get_depth(X, t)\n",
    "\n",
    "print(f'Quota a 10 minuti: {q10}')\n",
    "print(f'Quota a 20 minuti: {q20}')\n",
    "print(f'Quota a 30 minuti: {q30}')"
   ]
  }
 ],
 "metadata": {
  "celltoolbar": "Slideshow",
  "kernelspec": {
   "display_name": "Python 3 (ipykernel)",
   "language": "python",
   "name": "python3"
  },
  "language_info": {
   "codemirror_mode": {
    "name": "ipython",
    "version": 3
   },
   "file_extension": ".py",
   "mimetype": "text/x-python",
   "name": "python",
   "nbconvert_exporter": "python",
   "pygments_lexer": "ipython3",
   "version": "3.9.5"
  },
  "rise": {
   "center": false,
   "enable_chalkboard": true,
   "transition": "fade"
  }
 },
 "nbformat": 4,
 "nbformat_minor": 4
}
