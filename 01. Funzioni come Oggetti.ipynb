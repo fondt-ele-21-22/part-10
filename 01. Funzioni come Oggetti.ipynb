{
 "cells": [
  {
   "cell_type": "markdown",
   "metadata": {},
   "source": [
    "Iniziamo abilitando subito l'estensione `autoreload`"
   ]
  },
  {
   "cell_type": "code",
   "execution_count": 1,
   "metadata": {},
   "outputs": [],
   "source": [
    "%load_ext autoreload\n",
    "%autoreload 2"
   ]
  },
  {
   "cell_type": "markdown",
   "metadata": {
    "slideshow": {
     "slide_type": "slide"
    }
   },
   "source": [
    "# Funzioni come Oggetti"
   ]
  },
  {
   "cell_type": "markdown",
   "metadata": {
    "slideshow": {
     "slide_type": "subslide"
    }
   },
   "source": [
    "## Un Esempio di Motivazione\n",
    "\n",
    "**Supponiamo di voler _approssimare la derivata di una funzione $f: \\mathbb{R} \\to \\mathbb{R}$_**\n",
    "\n",
    "Sappiano che la derivata è definita come segue:\n",
    "\n",
    "$$\n",
    "\\frac{df}{dx}(x) = \\lim_{\\varepsilon \\to 0} \\frac{f(x+\\varepsilon) - f(x)}{\\varepsilon}\n",
    "$$\n",
    "\n",
    "Se scegliamo un valore di $\\varepsilon$ piuttosto piccolo (diciamo $\\hat{\\varepsilon}$) avremo che:\n",
    "\n",
    "$$\n",
    "\\frac{df}{dx}(x) \\simeq \\frac{f(x+\\hat{\\varepsilon}) - f(x)}{\\hat{\\varepsilon}}\n",
    "$$\n",
    "\n",
    "* L'espressione a dx è facilmente calcolabile\n",
    "* ...A meno di [problemi numerici](https://en.wikipedia.org/wiki/Numerical_differentiation), che però non approfondiremo\n",
    "\n",
    "In pratica si usano formule più numericamente stabili, ma a noi questa andrà bene"
   ]
  },
  {
   "cell_type": "markdown",
   "metadata": {
    "slideshow": {
     "slide_type": "subslide"
    }
   },
   "source": [
    "## Un Esempio di Motivazione\n",
    "\n",
    "**Se conosciamo la funzione $f$, è facile implementare la formula in Python**\n",
    "\n",
    "Supponiamo di voler derivare $x e^{\\cos(x)}$"
   ]
  },
  {
   "cell_type": "code",
   "execution_count": 2,
   "metadata": {},
   "outputs": [
    {
     "data": {
      "text/plain": [
       "2.718281828459045"
      ]
     },
     "execution_count": 2,
     "metadata": {},
     "output_type": "execute_result"
    }
   ],
   "source": [
    "import numpy as np\n",
    "\n",
    "def num_der(x):\n",
    "    h = np.sqrt(np.finfo(float).eps)\n",
    "    df = (x + h) * np.exp(np.cos(x+h)) - (x) * np.exp(np.cos(x))\n",
    "    return df / h\n",
    "\n",
    "num_der(0)"
   ]
  },
  {
   "cell_type": "markdown",
   "metadata": {},
   "source": [
    "* L'espressione `np.finfo(float).eps` restituisce l'$\\varepsilon$ di macchina per il tipo `float`\n",
    "* ...Ossia il più piccolo valore `float` rappresentabile nell'interprete"
   ]
  },
  {
   "cell_type": "markdown",
   "metadata": {
    "slideshow": {
     "slide_type": "subslide"
    }
   },
   "source": [
    "## Un Esempio di Motivazione\n",
    "\n",
    "**Possiamo anche disegnare il grafico della derivata (e.g. in $[0, 2\\pi]$**\n",
    "\n",
    "...Allo scopo useremo una funzione dal modulo `util` fornito con questa lezione"
   ]
  },
  {
   "cell_type": "code",
   "execution_count": 3,
   "metadata": {},
   "outputs": [
    {
     "data": {
      "image/png": "[encoded data removed]",
      "text/plain": [
       "<Figure size 1440x432 with 1 Axes>"
      ]
     },
     "metadata": {
      "needs_background": "light"
     },
     "output_type": "display_data"
    }
   ],
   "source": [
    "import numpy as np\n",
    "from example import util\n",
    "x = np.linspace(0, 2*np.pi, 200)\n",
    "util.plot(x, num_der(x), xlabel='x', ylabel='f\\'(x)', figsize=(20, 6))"
   ]
  },
  {
   "cell_type": "markdown",
   "metadata": {
    "slideshow": {
     "slide_type": "subslide"
    }
   },
   "source": [
    "## Funzioni come Dati\n",
    "\n",
    "**L'approccio che abbiamo usato _è valido per ogni funzione $f$_**\n",
    "\n",
    "...Ma il nostro codice funzione solo per $x e^{\\cos(x)}$\n",
    "\n",
    "* Per generalizzarlo dovremmo poter _specificare la funzione da utilizzare_\n",
    "* ...E dovremmo poterlo fare _al momento della chiamata_\n",
    "\n",
    "**In pratica, la funzione da valutare dovrebbe essere un parametro di ingresso**\n",
    "\n",
    "Per esempio potremmo immaginare di avere qualcosa del genere:\n",
    "\n",
    "```python\n",
    "def num_der(f, x):\n",
    "    h = np.sqrt(np.finfo(float).eps)\n",
    "    df = f(x+h) - f(x)\n",
    "    return df / h\n",
    "```\n",
    "\n",
    "* `f` è un parametro di ingresso (come al solito)\n",
    "* ...Solo che nel codice _lo possiamo eseguire come una funzione_"
   ]
  },
  {
   "cell_type": "markdown",
   "metadata": {
    "slideshow": {
     "slide_type": "subslide"
    }
   },
   "source": [
    "## Funzioni come Dati\n",
    "\n",
    "**La cosa interessante è che _funziona per davvero_**"
   ]
  },
  {
   "cell_type": "code",
   "execution_count": 4,
   "metadata": {},
   "outputs": [
    {
     "data": {
      "text/plain": [
       "2.718281828459045"
      ]
     },
     "execution_count": 4,
     "metadata": {},
     "output_type": "execute_result"
    }
   ],
   "source": [
    "def num_der(f, x):\n",
    "    h = np.sqrt(np.finfo(float).eps)\n",
    "    df = f(x+h) - f(x)\n",
    "    return df / h\n",
    "\n",
    "def my_f(x):\n",
    "    return x * np.exp(np.cos(x))\n",
    "\n",
    "num_der(my_f, 0)"
   ]
  },
  {
   "cell_type": "markdown",
   "metadata": {},
   "source": [
    "**In Python _le funzioni sono dati_ ed _i nomi di funzione sono variabili_**\n",
    "\n",
    "* Quindi le possiamo assegnare a variabili e passare come argomento\n",
    "* Nel codice sopra, il parametro `f` viene riempito con il contenuto di `my_f`"
   ]
  },
  {
   "cell_type": "markdown",
   "metadata": {
    "slideshow": {
     "slide_type": "subslide"
    }
   },
   "source": [
    "## Funzioni come Dati\n",
    "\n",
    "**La cosa interessante è che _funziona per davvero_**"
   ]
  },
  {
   "cell_type": "code",
   "execution_count": 5,
   "metadata": {},
   "outputs": [
    {
     "data": {
      "text/plain": [
       "2.718281828459045"
      ]
     },
     "execution_count": 5,
     "metadata": {},
     "output_type": "execute_result"
    }
   ],
   "source": [
    "def num_der(f, x):\n",
    "    h = np.sqrt(np.finfo(float).eps)\n",
    "    df = f(x+h) - f(x)\n",
    "    return df / h\n",
    "\n",
    "def my_f(x):\n",
    "    return x * np.exp(np.cos(x))\n",
    "\n",
    "num_der(my_f, 0)"
   ]
  },
  {
   "cell_type": "markdown",
   "metadata": {},
   "source": [
    "**La notazione con le parentesi tonde (e.g. `f(x)`) si chiama _operatore di esecuzione_**\n",
    "\n",
    "* Si applicata ad una funzione (e.g. ottenuta da una variabile o espressione)\n",
    "* Indica all'interprete che la funzione deve essere eseguita"
   ]
  },
  {
   "cell_type": "markdown",
   "metadata": {
    "slideshow": {
     "slide_type": "subslide"
    }
   },
   "source": [
    "## Funzioni come Dati\n",
    "\n",
    "**Vediamo qualche esempio generico**\n",
    "\n",
    "Si può assegnare una funzione ad una variabile:"
   ]
  },
  {
   "cell_type": "code",
   "execution_count": 6,
   "metadata": {},
   "outputs": [
    {
     "data": {
      "text/plain": [
       "1.1557273497909217"
      ]
     },
     "execution_count": 6,
     "metadata": {},
     "output_type": "execute_result"
    }
   ],
   "source": [
    "def my_f(x):\n",
    "    return x * np.exp(np.cos(x))\n",
    "\n",
    "f = my_f\n",
    "f(np.pi)"
   ]
  },
  {
   "cell_type": "markdown",
   "metadata": {},
   "source": [
    "Si può cercare di eseguire una variabile che non contiene una funzione\n",
    "\n",
    "* ...Anche e ovviamente così facendo si ottiene un errore"
   ]
  },
  {
   "cell_type": "code",
   "execution_count": 1,
   "metadata": {},
   "outputs": [
    {
     "ename": "NameError",
     "evalue": "name 'np' is not defined",
     "output_type": "error",
     "traceback": [
      "\u001b[0;31m---------------------------------------------------------------------------\u001b[0m",
      "\u001b[0;31mNameError\u001b[0m                                 Traceback (most recent call last)",
      "Input \u001b[0;32mIn [1]\u001b[0m, in \u001b[0;36m<cell line: 2>\u001b[0;34m()\u001b[0m\n\u001b[1;32m      1\u001b[0m f \u001b[38;5;241m=\u001b[39m \u001b[38;5;241m10\u001b[39m\n\u001b[0;32m----> 2\u001b[0m f(\u001b[43mnp\u001b[49m\u001b[38;5;241m.\u001b[39mpi)\n",
      "\u001b[0;31mNameError\u001b[0m: name 'np' is not defined"
     ]
    }
   ],
   "source": [
    "f = 10\n",
    "f(np.pi)"
   ]
  },
  {
   "cell_type": "markdown",
   "metadata": {
    "slideshow": {
     "slide_type": "subslide"
    }
   },
   "source": [
    "## Classi Funzione\n",
    "\n",
    "**È possibile creare classi che si comportino come funzioni**\n",
    "\n",
    "...Basta ridefinire l'operatore di esecuzione!"
   ]
  },
  {
   "cell_type": "code",
   "execution_count": 7,
   "metadata": {},
   "outputs": [],
   "source": [
    "class PowerOf:\n",
    "    def __init__(self, base):\n",
    "        self.base = base\n",
    "    \n",
    "    def __call__(self, x):\n",
    "        return self.base**x"
   ]
  },
  {
   "cell_type": "markdown",
   "metadata": {},
   "source": [
    "Possiamo istanziare `PowerOf` come al solito\n",
    "\n",
    "* Quando costruiamo un istanza, specifichiamo il parametro `base`\n",
    "\n",
    "Possiamo eseguire un oggetto di tipo `PowerOf`\n",
    "\n",
    "* Quando lo facciamo, viene eseguito il metodo `__call__`"
   ]
  },
  {
   "cell_type": "markdown",
   "metadata": {
    "slideshow": {
     "slide_type": "subslide"
    }
   },
   "source": [
    "## Classi Funzione\n",
    "\n",
    "**Vediamo un esempio di utilizzo**"
   ]
  },
  {
   "cell_type": "code",
   "execution_count": 8,
   "metadata": {},
   "outputs": [
    {
     "name": "stdout",
     "output_type": "stream",
     "text": [
      "4\n",
      "9\n"
     ]
    }
   ],
   "source": [
    "power_of_2 = PowerOf(2)\n",
    "power_of_3 = PowerOf(3)\n",
    "x = 2\n",
    "\n",
    "print(f1(x))\n",
    "print(f2(x))"
   ]
  },
  {
   "cell_type": "markdown",
   "metadata": {},
   "source": [
    "* `PowerOf(2)` restituisce un oggetto `PowerOf` con `base = 2`\n",
    "* `PowerOf(3)` restituisce un oggetto `PowerOf` con `base = 3`\n",
    "* Chiamano i due ogggetti con `x = 2` otteniamo `2**2` e `3**2`\n",
    "* Al momento della chiamata, il parametro `self` è passato automaticamente\n",
    "  - È il comportamento normale dei metodi in Python\n",
    "  - ...Ed in pratica vuol dire che alla chiamata passiamo solo `x`"
   ]
  }
 ],
 "metadata": {
  "celltoolbar": "Slideshow",
  "kernelspec": {
   "display_name": "Python 3 (ipykernel)",
   "language": "python",
   "name": "python3"
  },
  "language_info": {
   "codemirror_mode": {
    "name": "ipython",
    "version": 3
   },
   "file_extension": ".py",
   "mimetype": "text/x-python",
   "name": "python",
   "nbconvert_exporter": "python",
   "pygments_lexer": "ipython3",
   "version": "3.9.5"
  },
  "rise": {
   "center": false,
   "enable_chalkboard": true,
   "transition": "fade"
  }
 },
 "nbformat": 4,
 "nbformat_minor": 4
}
